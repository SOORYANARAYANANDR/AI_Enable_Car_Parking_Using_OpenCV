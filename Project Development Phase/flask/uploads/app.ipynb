{
 "cells": [
  {
   "cell_type": "code",
   "execution_count": 3,
   "metadata": {},
   "outputs": [],
   "source": [
    "import cv2\n",
    "import numpy as np\n",
    "import os\n",
    "from flask import Flask,render_template,request\n",
    "\n",
    "\n"
   ]
  },
  {
   "cell_type": "code",
   "execution_count": 4,
   "metadata": {},
   "outputs": [
    {
     "name": "stdout",
     "output_type": "stream",
     "text": [
      " * Serving Flask app '__main__'\n",
      " * Debug mode: on\n"
     ]
    },
    {
     "name": "stderr",
     "output_type": "stream",
     "text": [
      "WARNING: This is a development server. Do not use it in a production deployment. Use a production WSGI server instead.\n",
      " * Running on http://127.0.0.1:5000\n",
      "Press CTRL+C to quit\n",
      " * Restarting with stat\n"
     ]
    },
    {
     "ename": "SystemExit",
     "evalue": "1",
     "output_type": "error",
     "traceback": [
      "An exception has occurred, use %tb to see the full traceback.\n",
      "\u001b[1;31mSystemExit\u001b[0m\u001b[1;31m:\u001b[0m 1\n"
     ]
    },
    {
     "name": "stderr",
     "output_type": "stream",
     "text": [
      "C:\\Users\\sonudr\\AppData\\Roaming\\Python\\Python311\\site-packages\\IPython\\core\\interactiveshell.py:3441: UserWarning: To exit: use 'exit', 'quit', or Ctrl-D.\n",
      "  warn(\"To exit: use 'exit', 'quit', or Ctrl-D.\", stacklevel=1)\n"
     ]
    }
   ],
   "source": [
    "app = Flask(__name__)\n",
    "\n",
    "\n",
    "@app.route('/')\n",
    "def index():\n",
    "    return render_template('index.html')\n",
    "\n",
    "\n",
    "@app.route('/process',methods=['POST'])\n",
    "def process():\n",
    "    video_file = request.files['video']\n",
    "    image_file = request.files['image']\n",
    "\n",
    "\n",
    "    video_path = os.path.join('Flask/uploads', video_file.filename)\n",
    "    image_path = os.path.join('Flask/uploads', image_file.filename)\n",
    "\n",
    "    posList = np.load('Flask/uploads/parkingSlotPosition.npy')\n",
    "\n",
    "\n",
    "    cap = cv2.VideoCapture(video_path)\n",
    "    height = 0 \n",
    "    width = 0\n",
    "\n",
    "    while True:\n",
    "        if cap.get(cv2.CAP_PROP_POS_FRAMES)==cap.get(cv2.CAP_PROP_FRAME_COUNT):\n",
    "            cap.set(cv2.CAP_PROP_POS_FRAMES, 0)\n",
    "        ret, frame = cap.read()\n",
    "\n",
    "\n",
    "        if not ret:\n",
    "            break\n",
    "\n",
    "        grey = cv2.cvtColor(frame, cv2.COLOR_BGR2GRAY)\n",
    "\n",
    "\n",
    "        blurred = cv2.GaussianBlur(grey, (3,3), 0)\n",
    "\n",
    "\n",
    "        threshold = cv2.adaptiveThreshold(blurred, 255, cv2.ADAPTIVE_THRESH_GAUSSIAN_C, cv2.THRESH_BINARY_INV, 25, 16)\n",
    "\n",
    "\n",
    "        median = cv2.medianBlur(threshold, 5)\n",
    "\n",
    "\n",
    "        kernel = np.ones((3,3), np.uint8)\n",
    "        dilated = cv2.dilate(median, kernel,iterations=1)\n",
    "\n",
    "        imgOverlay = frame.copy()\n",
    "\n",
    "\n",
    "        freeSlots =[]\n",
    "        freeSlotPosition = []\n",
    "\n",
    "\n",
    "        for i, pos in enumerate(posList):\n",
    "            x, y = pos\n",
    "            imgCrop = dilated[y:y + height, x:x +width ]\n",
    "            count= cv2.countNonZero(imgCrop)\n",
    "            if count < 900:\n",
    "                color = (0,255, 0)\n",
    "                thickness = 2\n",
    "                freeSlots.append(i +1)\n",
    "                freeSlotPosition.append(pos)\n",
    "            else:\n",
    "                color = (0,0, 255)\n",
    "                thickness = 2\n",
    "            cv2.rectangle(imgOverlay, pos,(pos[0]+ width,pos[1] + height),color,thickness)\n",
    "            cv2.putText (imgOverlay, str(i+1),(x, y - 10), cv2.FONT_HERSHEY_SIMPLEX, 0.7, (255,255,255), thickness,cv2.LINE_AA)\n",
    "\n",
    "        cv2.putText(imgOverlay, f'Free:{len(freeSlots)}/ {len(posList)}',(100,50), cv2.FONT_HERSHEY_SIMPLEX,1,(0,255,0),2, cv2.LINE_AA)\n",
    "\n",
    "        for slot, pos in zip(freeSlots, freeSlotPosition):\n",
    "            cv2.putText(imgOverlay, f'Slot{slot}',(pos[0],pos[1]- 10),cv2.FONT_HERSHEY_SIMPLEX,0.7,(0,255,0),thickness,cv2.LINE_AA)\n",
    "\n",
    "        cv2.imshow(\"Car Parking Input\", frame)\n",
    "\n",
    "        if cv2.waitKey(1) == ord('q'):\n",
    "            break\n",
    "\n",
    "    cap.release()\n",
    "    cv2.destroyAllWindows()\n",
    "\n",
    "    return render_template('result.html', video_path=video_path,image_path=image_path,posList=posList)\n",
    "\n",
    "if __name__ == '__main__':\n",
    "    app.run(debug=True)\n",
    "  \n",
    "\n"
   ]
  },
  {
   "cell_type": "code",
   "execution_count": 1,
   "metadata": {},
   "outputs": [
    {
     "ename": "ImportError",
     "evalue": "cannot import name 'flask' from 'flask' (c:\\Python311\\Lib\\site-packages\\flask\\__init__.py)",
     "output_type": "error",
     "traceback": [
      "\u001b[1;31m---------------------------------------------------------------------------\u001b[0m",
      "\u001b[1;31mImportError\u001b[0m                               Traceback (most recent call last)",
      "Cell \u001b[1;32mIn[1], line 1\u001b[0m\n\u001b[1;32m----> 1\u001b[0m \u001b[39mfrom\u001b[39;00m \u001b[39mflask\u001b[39;00m \u001b[39mimport\u001b[39;00m flask ,render_template,request,session\n\u001b[0;32m      2\u001b[0m \u001b[39mimport\u001b[39;00m \u001b[39mcv2\u001b[39;00m\n\u001b[0;32m      3\u001b[0m \u001b[39mimport\u001b[39;00m \u001b[39mpickle\u001b[39;00m\n",
      "\u001b[1;31mImportError\u001b[0m: cannot import name 'flask' from 'flask' (c:\\Python311\\Lib\\site-packages\\flask\\__init__.py)"
     ]
    }
   ],
   "source": [
    "from flask import flask ,render_template,request,session\n",
    "import cv2\n",
    "import pickle\n",
    "import cvzone\n",
    "import numpy as np\n",
    "import ibm_db\n"
   ]
  }
 ],
 "metadata": {
  "kernelspec": {
   "display_name": "Python 3.11.0 64-bit",
   "language": "python",
   "name": "python3"
  },
  "language_info": {
   "codemirror_mode": {
    "name": "ipython",
    "version": 3
   },
   "file_extension": ".py",
   "mimetype": "text/x-python",
   "name": "python",
   "nbconvert_exporter": "python",
   "pygments_lexer": "ipython3",
   "version": "3.11.0"
  },
  "orig_nbformat": 4,
  "vscode": {
   "interpreter": {
    "hash": "c261aea317cc0286b3b3261fbba9abdec21eaa57589985bb7a274bf54d6cc0a7"
   }
  }
 },
 "nbformat": 4,
 "nbformat_minor": 2
}
